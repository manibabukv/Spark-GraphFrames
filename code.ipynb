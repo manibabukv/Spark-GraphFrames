{
  "nbformat": 4,
  "nbformat_minor": 0,
  "metadata": {
    "colab": {
      "provenance": [],
      "collapsed_sections": []
    },
    "kernelspec": {
      "name": "python3",
      "display_name": "Python 3"
    },
    "language_info": {
      "name": "python"
    }
  },
  "cells": [
    {
      "cell_type": "code",
      "source": [
        "#Step 1: Install Dependencies\n",
        "!apt-get install openjdk-8-jdk-headless -qq > /dev/null\n",
        "!wget -q https://archive.apache.org/dist/spark/spark-3.3.0/spark-3.3.0-bin-hadoop3.tgz\n",
        "!tar xf spark-3.3.0-bin-hadoop3.tgz\n",
        "!pip install -q findspark\n",
        "\n",
        "#Step 2: Add environment variables\n",
        "import os\n",
        "os.environ[\"JAVA_HOME\"] = \"/usr/lib/jvm/java-8-openjdk-amd64\"\n",
        "os.environ[\"SPARK_HOME\"] = \"spark-3.3.0-bin-hadoop3\"\n",
        "os.environ[\"HADOOP_HOME\"] = os.environ[\"SPARK_HOME\"]\n",
        "\n",
        "os.environ[\"PYSPARK_DRIVER_PYTHON\"] = \"jupyter\"\n",
        "os.environ[\"PYSPARK_DRIVER_PYTHON_OPTS\"] = \"notebook\"\n",
        "os.environ[\"PYSPARK_SUBMIT_ARGS\"] = \"--packages graphframes:graphframes:0.8.1-spark3.0-s_2.12 pyspark-shell\"\n",
        "#Step 3: Initialize Pyspark\n",
        "import findspark\n",
        "findspark.init()"
      ],
      "metadata": {
        "id": "SPkimnBghxvC"
      },
      "execution_count": 1,
      "outputs": []
    },
    {
      "cell_type": "code",
      "source": [
        "#creating spark context\n",
        "from pyspark.sql import SparkSession\n",
        "spark = SparkSession.builder.master(\"local[*]\").getOrCreate()\n",
        "sc = spark.sparkContext\n",
        "sc"
      ],
      "metadata": {
        "id": "mt_Zvg7G7O7d",
        "colab": {
          "base_uri": "https://localhost:8080/",
          "height": 197
        },
        "outputId": "df41e098-9a7e-4f1c-95e5-ce6d4ba928af"
      },
      "execution_count": 2,
      "outputs": [
        {
          "output_type": "execute_result",
          "data": {
            "text/plain": [
              "<SparkContext master=local[*] appName=pyspark-shell>"
            ],
            "text/html": [
              "\n",
              "        <div>\n",
              "            <p><b>SparkContext</b></p>\n",
              "\n",
              "            <p><a href=\"http://ae0ba0775bbf:4040\">Spark UI</a></p>\n",
              "\n",
              "            <dl>\n",
              "              <dt>Version</dt>\n",
              "                <dd><code>v3.3.0</code></dd>\n",
              "              <dt>Master</dt>\n",
              "                <dd><code>local[*]</code></dd>\n",
              "              <dt>AppName</dt>\n",
              "                <dd><code>pyspark-shell</code></dd>\n",
              "            </dl>\n",
              "        </div>\n",
              "        "
            ]
          },
          "metadata": {},
          "execution_count": 2
        }
      ]
    },
    {
      "cell_type": "markdown",
      "source": [
        "Vertices and Edges"
      ],
      "metadata": {
        "id": "mAo8RuJhYaFc"
      }
    },
    {
      "cell_type": "code",
      "source": [
        "vertices = spark.createDataFrame([\n",
        "\t\t\t\t    ('A','ARON', 350), \n",
        "                                  ('B','BILL',360),\n",
        "                                  ('C','CLAIR',195),\n",
        "                                  ('D','DANIEL',90),\n",
        "                                  ('E','ERIC',90),\n",
        "                                  ('F','FRANK',215),\n",
        "                                  ('G','GRAHAM',30),\n",
        "                                  ('H','HENRY',25),\n",
        "                                  ('I','INNA',25),\n",
        "                                  ('J','JEN',20)\n",
        "\t\t\t\t   ],['id','name','total_seconds'])"
      ],
      "metadata": {
        "id": "7wb_IiDaJIiO"
      },
      "execution_count": 47,
      "outputs": []
    },
    {
      "cell_type": "code",
      "source": [
        "edges = spark.createDataFrame([\n",
        "\t\t\t\t('A','B',60),\n",
        "\t\t\t\t('B','A',50),\n",
        "\t\t\t\t('A','C',50),\n",
        "\t\t\t\t('C','A',100),\n",
        "\t\t\t\t('A','D',90),\n",
        "\t\t\t\t('C','I',25),\n",
        "\t\t\t\t('C','J',20),\n",
        "\t\t\t\t('B','F',50),\n",
        "\t\t\t\t('F','B',110),\n",
        "\t\t\t\t('F','G',30),\n",
        "\t\t\t\t('F','H',25),\n",
        "\t\t\t\t('B','E',90)\n",
        "\t\t\t     ],['src', 'dst', 'relationship'])\n"
      ],
      "metadata": {
        "id": "5aEhzVpJBLPl"
      },
      "execution_count": 48,
      "outputs": []
    },
    {
      "cell_type": "markdown",
      "source": [
        "1. Creating a Graph G using the provided edges and vertices"
      ],
      "metadata": {
        "id": "v_zBVkrFAkOh"
      }
    },
    {
      "cell_type": "code",
      "source": [
        "from graphframes import *\n",
        "g = GraphFrame(vertices, edges)"
      ],
      "metadata": {
        "id": "SFSlbq5eBcb2",
        "colab": {
          "base_uri": "https://localhost:8080/"
        },
        "outputId": "c9e81262-f4fb-452d-db4b-d8b76c6b4b56"
      },
      "execution_count": 50,
      "outputs": [
        {
          "output_type": "stream",
          "name": "stderr",
          "text": [
            "spark-3.3.0-bin-hadoop3/python/pyspark/sql/dataframe.py:149: UserWarning: DataFrame.sql_ctx is an internal property, and will be removed in future releases. Use DataFrame.sparkSession instead.\n",
            "  \"DataFrame.sql_ctx is an internal property, and will be removed \"\n"
          ]
        }
      ]
    },
    {
      "cell_type": "markdown",
      "source": [
        "2. Vertices and Edges"
      ],
      "metadata": {
        "id": "XCh7lVmkAvgO"
      }
    },
    {
      "cell_type": "code",
      "source": [
        "g.vertices.show()\n",
        "g.edges.show()"
      ],
      "metadata": {
        "id": "Z1m0TaxsIi8g",
        "colab": {
          "base_uri": "https://localhost:8080/"
        },
        "outputId": "6245055f-a9df-478a-a29d-ee30cc70196c"
      },
      "execution_count": 51,
      "outputs": [
        {
          "output_type": "stream",
          "name": "stdout",
          "text": [
            "+---+------+-------------+\n",
            "| id|  name|total_seconds|\n",
            "+---+------+-------------+\n",
            "|  A|  ARON|          350|\n",
            "|  B|  BILL|          360|\n",
            "|  C| CLAIR|          195|\n",
            "|  D|DANIEL|           90|\n",
            "|  E|  ERIC|           90|\n",
            "|  F| FRANK|          215|\n",
            "|  G|GRAHAM|           30|\n",
            "|  H| HENRY|           25|\n",
            "|  I|  INNA|           25|\n",
            "|  J|   JEN|           20|\n",
            "+---+------+-------------+\n",
            "\n",
            "+---+---+------------+\n",
            "|src|dst|relationship|\n",
            "+---+---+------------+\n",
            "|  A|  B|          60|\n",
            "|  B|  A|          50|\n",
            "|  A|  C|          50|\n",
            "|  C|  A|         100|\n",
            "|  A|  D|          90|\n",
            "|  C|  I|          25|\n",
            "|  C|  J|          20|\n",
            "|  B|  F|          50|\n",
            "|  F|  B|         110|\n",
            "|  F|  G|          30|\n",
            "|  F|  H|          25|\n",
            "|  B|  E|          90|\n",
            "+---+---+------------+\n",
            "\n"
          ]
        }
      ]
    },
    {
      "cell_type": "markdown",
      "source": [
        "3. In-degrees and Out-degrees\n"
      ],
      "metadata": {
        "id": "dIT0hX_eBL_I"
      }
    },
    {
      "cell_type": "code",
      "source": [
        "g.inDegrees.show()\n",
        "g.outDegrees.show()\n"
      ],
      "metadata": {
        "id": "TldpdmduX1HZ",
        "colab": {
          "base_uri": "https://localhost:8080/"
        },
        "outputId": "64c28760-06e6-41dc-e317-3465cd82c66d"
      },
      "execution_count": 29,
      "outputs": [
        {
          "output_type": "stream",
          "name": "stdout",
          "text": [
            "+---+--------+\n",
            "| id|inDegree|\n",
            "+---+--------+\n",
            "|  B|       2|\n",
            "|  D|       1|\n",
            "|  C|       1|\n",
            "|  A|       2|\n",
            "|  I|       1|\n",
            "|  F|       1|\n",
            "|  E|       1|\n",
            "|  J|       1|\n",
            "|  G|       1|\n",
            "|  H|       1|\n",
            "+---+--------+\n",
            "\n",
            "+---+---------+\n",
            "| id|outDegree|\n",
            "+---+---------+\n",
            "|  B|        3|\n",
            "|  C|        3|\n",
            "|  A|        3|\n",
            "|  F|        3|\n",
            "+---+---------+\n",
            "\n"
          ]
        }
      ]
    },
    {
      "cell_type": "markdown",
      "source": [
        "4. Shortest Distance between ARON and JEN "
      ],
      "metadata": {
        "id": "a9Vw8eEgBXTm"
      }
    },
    {
      "cell_type": "code",
      "source": [
        "g.shortestPaths(landmarks=[\"A\", \"J\"]).show()\n",
        "results.select(\"id\", \"distances\").show()"
      ],
      "metadata": {
        "colab": {
          "base_uri": "https://localhost:8080/"
        },
        "id": "nplDzoHguBEg",
        "outputId": "48418e07-aad7-4def-b273-ca23e193051c"
      },
      "execution_count": 39,
      "outputs": [
        {
          "output_type": "stream",
          "name": "stdout",
          "text": [
            "+---+------+-------------+----------------+\n",
            "| id|  name|total_seconds|       distances|\n",
            "+---+------+-------------+----------------+\n",
            "|  F| FRANK|          215|{A -> 2, J -> 4}|\n",
            "|  E|  ERIC|           90|              {}|\n",
            "|  B|  BILL|          360|{A -> 1, J -> 3}|\n",
            "|  D|DANIEL|           90|              {}|\n",
            "|  C| CLAIR|          195|{A -> 1, J -> 1}|\n",
            "|  J|   JEN|           20|        {J -> 0}|\n",
            "|  A|  ARON|          350|{A -> 0, J -> 2}|\n",
            "|  G|GRAHAM|           30|              {}|\n",
            "|  I|  INNA|           25|              {}|\n",
            "|  H| HENRY|           25|              {}|\n",
            "+---+------+-------------+----------------+\n",
            "\n",
            "+---+----------------+\n",
            "| id|       distances|\n",
            "+---+----------------+\n",
            "|  F|{D -> 3, A -> 2}|\n",
            "|  E|              {}|\n",
            "|  B|{D -> 2, A -> 1}|\n",
            "|  D|        {D -> 0}|\n",
            "|  C|{D -> 2, A -> 1}|\n",
            "|  J|              {}|\n",
            "|  A|{D -> 1, A -> 0}|\n",
            "|  G|              {}|\n",
            "|  I|              {}|\n",
            "|  H|              {}|\n",
            "+---+----------------+\n",
            "\n"
          ]
        }
      ]
    }
  ]
}